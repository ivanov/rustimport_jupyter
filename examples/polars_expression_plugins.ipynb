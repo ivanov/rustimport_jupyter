{
 "cells": [
  {
   "cell_type": "markdown",
   "metadata": {},
   "source": [
    "# Polar Expression Plugins with `rustimport_jupyter`"
   ]
  },
  {
   "cell_type": "markdown",
   "metadata": {},
   "source": [
    "For Google colab, we install [rustimport_jupyter](https://github.com/thomasjpfan/rustimport_jupyter) and the rust toolchain:"
   ]
  },
  {
   "cell_type": "code",
   "execution_count": 1,
   "metadata": {},
   "outputs": [],
   "source": [
    "import os\n",
    "import sys\n",
    "\n",
    "IN_COLAB = \"google.colab\" in sys.modules"
   ]
  },
  {
   "cell_type": "code",
   "execution_count": 2,
   "metadata": {},
   "outputs": [],
   "source": [
    "if IN_COLAB:\n",
    "    %pip install git+https://github.com/thomasjpfan/rustimport_jupyter polars==0.20.2\n",
    "    !curl --proto '=https' --tlsv1.2 -sSf https://sh.rustup.rs | sh -s -- -y\n",
    "    os.environ[\"PATH\"] += \":/root/.cargo/bin\""
   ]
  },
  {
   "cell_type": "code",
   "execution_count": 3,
   "metadata": {},
   "outputs": [],
   "source": [
    "%load_ext rustimport_jupyter"
   ]
  },
  {
   "cell_type": "markdown",
   "metadata": {},
   "source": [
    "## Define the polars expression"
   ]
  },
  {
   "cell_type": "markdown",
   "metadata": {},
   "source": [
    "As show in [Polar's documentation](https://pola-rs.github.io/polars/user-guide/expressions/plugins/), we can define a pig-latin expression in rust. We'll need the compiled module later, so we set `--module-path-variable=polars_pig_latin_module`:"
   ]
  },
  {
   "cell_type": "code",
   "execution_count": 4,
   "metadata": {},
   "outputs": [],
   "source": [
    "%%rustimport --module-path-variable=polars_pig_latin_module\n",
    "//: [dependencies]\n",
    "//: polars = { version = \"*\" }\n",
    "//: pyo3 = { version = \"*\", features = [\"extension-module\"] }\n",
    "//: pyo3-polars = { version = \"0.9\", features = [\"derive\"] }\n",
    "//: serde = { version = \"*\", features = [\"derive\"] }\n",
    "\n",
    "use pyo3::prelude::*;\n",
    "use polars::prelude::*;\n",
    "use pyo3_polars::derive::polars_expr;\n",
    "use std::fmt::Write;\n",
    "\n",
    "fn pig_latin_str(value: &str, output: &mut String) {\n",
    "    if let Some(first_char) = value.chars().next() {\n",
    "        write!(output, \"{}{}ay\", &value[1..], first_char).unwrap()\n",
    "    }\n",
    "}\n",
    "\n",
    "#[polars_expr(output_type=Utf8)]\n",
    "fn pig_latinnify(inputs: &[Series]) -> PolarsResult<Series> {\n",
    "    let ca = inputs[0].utf8()?;\n",
    "    let out: Utf8Chunked = ca.apply_to_buffer(pig_latin_str);\n",
    "    Ok(out.into_series())\n",
    "}"
   ]
  },
  {
   "cell_type": "markdown",
   "metadata": {},
   "source": [
    "We install dependencies required by Polars using with a `//:` comment syntax, which will be injected into a `Cargo.toml` file.\n",
    "\n",
    "With `polars_pig_latin_module` defined, we can define a `language` namespace for the Polars dataframe:"
   ]
  },
  {
   "cell_type": "code",
   "execution_count": 5,
   "metadata": {},
   "outputs": [],
   "source": [
    "import polars as pl\n",
    "\n",
    "@pl.api.register_expr_namespace(\"language\")\n",
    "class Language:\n",
    "    def __init__(self, expr: pl.Expr):\n",
    "        self._expr = expr\n",
    "\n",
    "    def pig_latinnify(self) -> pl.Expr:\n",
    "        return self._expr.register_plugin(\n",
    "            lib=polars_pig_latin_module,\n",
    "            symbol=\"pig_latinnify\",\n",
    "            is_elementwise=True,\n",
    "        )"
   ]
  },
  {
   "cell_type": "markdown",
   "metadata": {},
   "source": [
    "With the `language` namespace defined, we can now use it with Polars:"
   ]
  },
  {
   "cell_type": "code",
   "execution_count": 6,
   "metadata": {},
   "outputs": [
    {
     "name": "stdout",
     "output_type": "stream",
     "text": [
      "shape: (4, 2)\n",
      "┌─────────┬───────────┐\n",
      "│ convert ┆ pig_latin │\n",
      "│ ---     ┆ ---       │\n",
      "│ str     ┆ str       │\n",
      "╞═════════╪═══════════╡\n",
      "│ pig     ┆ igpay     │\n",
      "│ latin   ┆ atinlay   │\n",
      "│ is      ┆ siay      │\n",
      "│ silly   ┆ illysay   │\n",
      "└─────────┴───────────┘\n"
     ]
    }
   ],
   "source": [
    "df = pl.DataFrame(\n",
    "    {\n",
    "        \"convert\": [\"pig\", \"latin\", \"is\", \"silly\"],\n",
    "    }\n",
    ")\n",
    "\n",
    "out = df.with_columns(\n",
    "    pig_latin=pl.col(\"convert\").language.pig_latinnify(),\n",
    ")\n",
    "print(out)"
   ]
  }
 ],
 "metadata": {
  "kernelspec": {
   "display_name": "rustimport-jupyter",
   "language": "python",
   "name": "python3"
  },
  "language_info": {
   "codemirror_mode": {
    "name": "ipython",
    "version": 3
   },
   "file_extension": ".py",
   "mimetype": "text/x-python",
   "name": "python",
   "nbconvert_exporter": "python",
   "pygments_lexer": "ipython3",
   "version": "3.11.7"
  }
 },
 "nbformat": 4,
 "nbformat_minor": 2
}
